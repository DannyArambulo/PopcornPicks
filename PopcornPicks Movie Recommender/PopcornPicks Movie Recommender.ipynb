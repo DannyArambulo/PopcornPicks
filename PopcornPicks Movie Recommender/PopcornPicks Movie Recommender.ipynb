{
 "cells": [
  {
   "cell_type": "code",
   "execution_count": 21,
   "id": "e043ed3b-6caa-4722-b173-3ececc77789d",
   "metadata": {},
   "outputs": [],
   "source": [
    "import pandas as pd\n",
    "import random\n",
    "import numpy as np\n",
    "\n",
    "random_seed = 1\n",
    "\n",
    "np.random.seed(random_seed)\n",
    "random.seed(random_seed)"
   ]
  },
  {
   "cell_type": "code",
   "execution_count": 22,
   "id": "1e2650b8-516b-4b3b-8e16-e19dcd71f99d",
   "metadata": {},
   "outputs": [],
   "source": [
    "#MovieReviewDatasetTMDB = pd.read_csv(\"TMDB_movie_dataset_v11.csv\")\n",
    "MovieReviewDatasetTMDB = pd.read_csv(\"tmdb_movies_data.csv\")\n",
    "\n",
    "MovieReviewDatasetTMDB = MovieReviewDatasetTMDB.fillna('')\n",
    "#MovieReviewDatasetTMDB = MovieReviewDatasetTMDB[MovieReviewDatasetTMDB.vote_count >= 100]"
   ]
  },
  {
   "cell_type": "code",
   "execution_count": 3,
   "id": "242d3e7e-d1b0-4862-84a3-9a6edcc2057b",
   "metadata": {},
   "outputs": [
    {
     "data": {
      "text/plain": [
       "(10866, 21)"
      ]
     },
     "execution_count": 3,
     "metadata": {},
     "output_type": "execute_result"
    }
   ],
   "source": [
    "MovieReviewDatasetTMDB.shape"
   ]
  },
  {
   "cell_type": "code",
   "execution_count": 4,
   "id": "5098d16b-9ed3-4832-8bd0-be6fa3d3af65",
   "metadata": {
    "scrolled": true
   },
   "outputs": [
    {
     "name": "stdout",
     "output_type": "stream",
     "text": [
      "Index(['id', 'imdb_id', 'popularity', 'budget', 'revenue', 'original_title',\n",
      "       'cast', 'homepage', 'director', 'tagline', 'keywords', 'overview',\n",
      "       'runtime', 'genres', 'production_companies', 'release_date',\n",
      "       'vote_count', 'vote_average', 'release_year', 'budget_adj',\n",
      "       'revenue_adj'],\n",
      "      dtype='object')\n"
     ]
    }
   ],
   "source": [
    "print(MovieReviewDatasetTMDB.columns)"
   ]
  },
  {
   "cell_type": "code",
   "execution_count": 5,
   "id": "473c51c6-3dab-43ba-b937-e8504a45418e",
   "metadata": {},
   "outputs": [],
   "source": [
    "#MovieReviewDatasetTMDB['adult'] = MovieReviewDatasetTMDB['adult'].replace({True: 'only for adult audiences', False: 'not an adult film'})\n",
    "#MovieReviewDatasetTMDB['features'] = MovieReviewDatasetTMDB['title'] + ' ' + MovieReviewDatasetTMDB['genres'] + ' ' + MovieReviewDatasetTMDB['keywords']# + ' ' + MovieReviewDatasetTMDB['adult']\n",
    "\n",
    "MovieReviewDatasetTMDB.rename(columns={'original_title': 'title'}, inplace=True)\n",
    "MovieReviewDatasetTMDB['features'] = MovieReviewDatasetTMDB['title'] + ' ' + MovieReviewDatasetTMDB['genres'] + ' ' + MovieReviewDatasetTMDB['keywords'] + ' ' + MovieReviewDatasetTMDB['director'] + ' ' + MovieReviewDatasetTMDB['cast']"
   ]
  },
  {
   "cell_type": "code",
   "execution_count": 6,
   "id": "5788030c-caa2-4dad-8752-cdd553c6e049",
   "metadata": {
    "scrolled": true
   },
   "outputs": [
    {
     "data": {
      "text/plain": [
       "(10866, 1977)"
      ]
     },
     "execution_count": 6,
     "metadata": {},
     "output_type": "execute_result"
    }
   ],
   "source": [
    "from sklearn.feature_extraction.text import CountVectorizer\n",
    "\n",
    "vectorizer = CountVectorizer(stop_words='english', min_df=20)\n",
    "word_matrix = vectorizer.fit_transform(MovieReviewDatasetTMDB['features'])\n",
    "word_matrix.shape"
   ]
  },
  {
   "cell_type": "code",
   "execution_count": 19,
   "id": "ec82b2d5-39c5-4e7b-9d56-bb83978dfd31",
   "metadata": {},
   "outputs": [],
   "source": [
    "from sklearn.metrics.pairwise import cosine_similarity\n",
    "\n",
    "SimilarityTMDB = cosine_similarity(word_matrix)\n",
    "\n"
   ]
  },
  {
   "cell_type": "code",
   "execution_count": 20,
   "id": "5c0a3748",
   "metadata": {},
   "outputs": [],
   "source": [
    "import pickle\n",
    "\n",
    "with open('SimilarityTMDB.pickle', 'wb') as handle:\n",
    "    pickle.dump(SimilarityTMDB, handle, protocol=pickle.HIGHEST_PROTOCOL)"
   ]
  },
  {
   "cell_type": "code",
   "execution_count": 13,
   "id": "4a054244-10b5-4852-9cc5-4e3f30de61d8",
   "metadata": {},
   "outputs": [],
   "source": [
    "def get_recommendations(title, df, sim, count=5):\n",
    "    # Get the row index of the specified title in the DataFrame\n",
    "    index = df.index[df['title'].str.lower() == title.lower()]\n",
    "    \n",
    "    # Return an empty list if there is no entry for the specified title\n",
    "    if (len(index) == 0):\n",
    "        return []\n",
    "\n",
    "    # Get the corresponding row in the similarity matrix\n",
    "    similarities = list(enumerate(sim[index[0]]))\n",
    "    \n",
    "    # Sort the similarity scores in that row in descending order\n",
    "    recommendations = sorted(similarities, key=lambda x: x[1], reverse=True)\n",
    "    \n",
    "    # Get the top n recommendations, ignoring the first entry in the list since\n",
    "    # it corresponds to the title itself (and thus has a similarity of 1.0)\n",
    "    top_recs = recommendations[1:count + 1]\n",
    "\n",
    "    # Generate a list of titles from the indexes in top_recs\n",
    "    titles = []\n",
    "\n",
    "    for i in range(len(top_recs)):\n",
    "        title = df.iloc[top_recs[i][0]]['imdb_id']\n",
    "        titles.append(title)\n",
    "\n",
    "    return titles"
   ]
  },
  {
   "cell_type": "code",
   "execution_count": 14,
   "id": "ac335971-e18d-424f-a9f4-b76a499daec3",
   "metadata": {},
   "outputs": [],
   "source": [
    "# Read movie title from a file.\n",
    "\n",
    "#This movie name is a string which will replace 'Shrek' in the part below."
   ]
  },
  {
   "cell_type": "code",
   "execution_count": 15,
   "id": "0e0e3f1b-7db3-4115-b4ba-dd4430319505",
   "metadata": {
    "scrolled": true
   },
   "outputs": [],
   "source": [
    "RecommendedTitleList = get_recommendations('Shrek', MovieReviewDatasetTMDB, SimilarityTMDB)"
   ]
  },
  {
   "cell_type": "code",
   "execution_count": 16,
   "id": "d2aee980-1ab1-4b9f-97a4-7a7639e393e5",
   "metadata": {},
   "outputs": [],
   "source": [
    "# Save TitleList to a file based on the user and have the backend parse the rest.\n"
   ]
  },
  {
   "cell_type": "code",
   "execution_count": 17,
   "id": "fe9bed45-4ea9-4cb7-a479-8f97d00c6bde",
   "metadata": {},
   "outputs": [
    {
     "data": {
      "text/plain": [
       "['tt0360985',\n",
       " 'tt0298148',\n",
       " 'tt0413267',\n",
       " 'tt0892791',\n",
       " 'tt0897387',\n",
       " 'tt1830577',\n",
       " 'tt0307461',\n",
       " 'tt3148834',\n",
       " 'tt0103639',\n",
       " 'tt0465502']"
      ]
     },
     "execution_count": 17,
     "metadata": {},
     "output_type": "execute_result"
    }
   ],
   "source": [
    "RecommendedTitleList"
   ]
  },
  {
   "cell_type": "code",
   "execution_count": null,
   "id": "25692979",
   "metadata": {},
   "outputs": [],
   "source": []
  }
 ],
 "metadata": {
  "kernelspec": {
   "display_name": "TF",
   "language": "python",
   "name": "tf"
  },
  "language_info": {
   "codemirror_mode": {
    "name": "ipython",
    "version": 3
   },
   "file_extension": ".py",
   "mimetype": "text/x-python",
   "name": "python",
   "nbconvert_exporter": "python",
   "pygments_lexer": "ipython3",
   "version": "3.12.7"
  }
 },
 "nbformat": 4,
 "nbformat_minor": 5
}
