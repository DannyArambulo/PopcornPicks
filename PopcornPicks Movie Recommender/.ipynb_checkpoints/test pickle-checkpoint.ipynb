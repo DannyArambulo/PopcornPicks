{
 "cells": [
  {
   "cell_type": "code",
   "execution_count": 78,
   "id": "b0bd88dc",
   "metadata": {},
   "outputs": [],
   "source": [
    "import pandas as pd\n",
    "import pickle\n",
    "\n",
    "MovieReviewDatasetTMDB = pd.read_csv(\"tmdb_movies_data.csv\")\n",
    "\n",
    "#MovieReviewDatasetTMDB = MovieReviewDatasetTMDB.fillna('')\n",
    "\n",
    "#MovieReviewDatasetTMDB.rename(columns={'original_title': 'title'}, inplace=True)\n",
    "#MovieReviewDatasetTMDB['features'] = MovieReviewDatasetTMDB['title'] + ' ' + MovieReviewDatasetTMDB['genres'] + ' ' + MovieReviewDatasetTMDB['keywords'] + ' ' + MovieReviewDatasetTMDB['director'] + ' ' + MovieReviewDatasetTMDB['cast']"
   ]
  },
  {
   "cell_type": "code",
   "execution_count": 79,
   "id": "3cdaae4c",
   "metadata": {},
   "outputs": [],
   "source": [
    "#MovieReviewDatasetTMDB.to_csv('tmdb_movies_data.csv')"
   ]
  },
  {
   "cell_type": "code",
   "execution_count": 80,
   "id": "9bbe25d3",
   "metadata": {},
   "outputs": [],
   "source": [
    "def get_recommendations(imdb_id, df, sim, count=5):\n",
    "    # Get the row index of the specified title in the DataFrame\n",
    "    index = df.index[df['imdb_id'].str.lower() == imdb_id]\n",
    "    \n",
    "    # Return an empty list if there is no entry for the specified title\n",
    "    if (len(index) == 0):\n",
    "        return []\n",
    "\n",
    "    # Get the corresponding row in the similarity matrix\n",
    "    similarities = list(enumerate(sim[index[0]]))\n",
    "    \n",
    "    # Sort the similarity scores in that row in descending order\n",
    "    recommendations = sorted(similarities, key=lambda x: x[1], reverse=True)\n",
    "    \n",
    "    # Get the top n recommendations, ignoring the first entry in the list since\n",
    "    # it corresponds to the imdb_id itself (and thus has a similarity of 1.0)\n",
    "    top_recs = recommendations[1:count + 1]\n",
    "\n",
    "    # Generate a list of imdb_id from the indexes in top_recs\n",
    "    imdb_ids = []\n",
    "\n",
    "    for i in range(len(top_recs)):\n",
    "        imdb_id = df.iloc[top_recs[i][0]]['imdb_id']\n",
    "        imdb_ids.append(imdb_id)\n",
    "\n",
    "    return imdb_ids"
   ]
  },
  {
   "cell_type": "code",
   "execution_count": 81,
   "id": "d9577caa",
   "metadata": {},
   "outputs": [],
   "source": [
    "# Load data (deserialize)\n",
    "with open('SimilarityTMDB.pickle', 'rb') as handle:\n",
    "    SimilarityTMDB = pickle.load(handle)"
   ]
  },
  {
   "cell_type": "code",
   "execution_count": 82,
   "id": "34a01f22",
   "metadata": {},
   "outputs": [],
   "source": [
    "RecommendedTitleList = get_recommendations('tt0126029', MovieReviewDatasetTMDB, SimilarityTMDB)"
   ]
  },
  {
   "cell_type": "code",
   "execution_count": 83,
   "id": "642ec000",
   "metadata": {},
   "outputs": [
    {
     "name": "stdout",
     "output_type": "stream",
     "text": [
      "['tt0360985', 'tt0298148', 'tt0413267', 'tt0892791', 'tt0897387']\n"
     ]
    }
   ],
   "source": [
    "print(RecommendedTitleList)"
   ]
  },
  {
   "cell_type": "code",
   "execution_count": 84,
   "id": "9b32e90a",
   "metadata": {},
   "outputs": [
    {
     "name": "stdout",
     "output_type": "stream",
     "text": [
      "['tt0360985', 'tt0298148', 'tt0413267', 'tt0892791', 'tt0897387']\n"
     ]
    }
   ],
   "source": [
    "print( get_recommendations('tt0126029', MovieReviewDatasetTMDB, SimilarityTMDB))"
   ]
  },
  {
   "cell_type": "code",
   "execution_count": null,
   "id": "12d1c9bf",
   "metadata": {},
   "outputs": [],
   "source": []
  }
 ],
 "metadata": {
  "kernelspec": {
   "display_name": "Python 3 (ipykernel)",
   "language": "python",
   "name": "python3"
  },
  "language_info": {
   "codemirror_mode": {
    "name": "ipython",
    "version": 3
   },
   "file_extension": ".py",
   "mimetype": "text/x-python",
   "name": "python",
   "nbconvert_exporter": "python",
   "pygments_lexer": "ipython3",
   "version": "3.11.5"
  }
 },
 "nbformat": 4,
 "nbformat_minor": 5
}
