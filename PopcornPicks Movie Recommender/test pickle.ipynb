{
 "cells": [
  {
   "cell_type": "code",
   "execution_count": 85,
   "id": "5d679092",
   "metadata": {},
   "outputs": [],
   "source": [
    "import pandas as pd\n",
    "import pickle\n",
    "\n",
    "MovieReviewDatasetTMDB = pd.read_csv(\"tmdb_movies_data.csv\")\n",
    "\n",
    "#MovieReviewDatasetTMDB = MovieReviewDatasetTMDB.fillna('')\n",
    "\n",
    "#MovieReviewDatasetTMDB.rename(columns={'original_title': 'title'}, inplace=True)\n",
    "#MovieReviewDatasetTMDB['features'] = MovieReviewDatasetTMDB['title'] + ' ' + MovieReviewDatasetTMDB['genres'] + ' ' + MovieReviewDatasetTMDB['keywords'] + ' ' + MovieReviewDatasetTMDB['director'] + ' ' + MovieReviewDatasetTMDB['cast']"
   ]
  },
  {
   "cell_type": "code",
   "execution_count": 86,
   "id": "bb00b383",
   "metadata": {},
   "outputs": [],
   "source": [
    "#MovieReviewDatasetTMDB.to_csv('tmdb_movies_data.csv')"
   ]
  },
  {
   "cell_type": "code",
   "execution_count": 93,
   "id": "686cce12",
   "metadata": {},
   "outputs": [],
   "source": [
    "def get_recommendations(imdb_id, count=5):\n",
    "    \n",
    "    MovieReviewDatasetTMDB = pd.read_csv(\"PopcornPicks Movie Recommender/tmdb_movies_data.csv\")\n",
    "\n",
    "    with open('PopcornPicks Movie Recommender/SimilarityTMDB.pickle', 'rb') as handle:\n",
    "        SimilarityTMDB = pickle.load(handle)\n",
    "    \n",
    "    # Get the row index of the specified title in the DataFrame\n",
    "    index = MovieReviewDatasetTMDB.index[MovieReviewDatasetTMDB['imdb_id'].str.lower() == imdb_id]\n",
    "    \n",
    "    # Return an empty list if there is no entry for the specified title\n",
    "    if (len(index) == 0):\n",
    "        return []\n",
    "\n",
    "    # Get the corresponding row in the similarity matrix\n",
    "    similarities = list(enumerate(SimilarityTMDB[index[0]]))\n",
    "    \n",
    "    # Sort the similarity scores in that row in descending order\n",
    "    recommendations = sorted(similarities, key=lambda x: x[1], reverse=True)\n",
    "    \n",
    "    # Get the top n recommendations, ignoring the first entry in the list since\n",
    "    # it corresponds to the imdb_id itself (and thus has a similarity of 1.0)\n",
    "    top_recs = recommendations[1:count + 1]\n",
    "\n",
    "    # Generate a list of imdb_id from the indexes in top_recs\n",
    "    imdb_ids = []\n",
    "\n",
    "    for i in range(len(top_recs)):\n",
    "        imdb_id = MovieReviewDatasetTMDB.iloc[top_recs[i][0]]['imdb_id']\n",
    "        imdb_ids.append(imdb_id)\n",
    "\n",
    "    return imdb_ids"
   ]
  },
  {
   "cell_type": "code",
   "execution_count": 88,
   "id": "5a9060be",
   "metadata": {},
   "outputs": [],
   "source": [
    "# Load data (deserialize)\n",
    "with open('SimilarityTMDB.pickle', 'rb') as handle:\n",
    "    SimilarityTMDB = pickle.load(handle)"
   ]
  },
  {
   "cell_type": "code",
   "execution_count": 94,
   "id": "e11a44cb",
   "metadata": {},
   "outputs": [],
   "source": [
    "RecommendedTitleList = get_recommendations('tt0126029')"
   ]
  },
  {
   "cell_type": "code",
   "execution_count": 95,
   "id": "52280d48",
   "metadata": {},
   "outputs": [
    {
     "name": "stdout",
     "output_type": "stream",
     "text": [
      "['tt0360985', 'tt0298148', 'tt0413267', 'tt0892791', 'tt0897387']\n"
     ]
    }
   ],
   "source": [
    "print(RecommendedTitleList)"
   ]
  },
  {
   "cell_type": "code",
   "execution_count": 97,
   "id": "318d2c0b",
   "metadata": {},
   "outputs": [
    {
     "name": "stdout",
     "output_type": "stream",
     "text": [
      "['tt0360985', 'tt0298148', 'tt0413267', 'tt0892791', 'tt0897387']\n"
     ]
    }
   ],
   "source": [
    "print( get_recommendations('tt0126029'))"
   ]
  },
  {
   "cell_type": "code",
   "execution_count": null,
   "id": "4cc14590",
   "metadata": {},
   "outputs": [],
   "source": []
  }
 ],
 "metadata": {
  "kernelspec": {
   "display_name": "Python 3 (ipykernel)",
   "language": "python",
   "name": "python3"
  },
  "language_info": {
   "codemirror_mode": {
    "name": "ipython",
    "version": 3
   },
   "file_extension": ".py",
   "mimetype": "text/x-python",
   "name": "python",
   "nbconvert_exporter": "python",
   "pygments_lexer": "ipython3",
   "version": "3.11.5"
  }
 },
 "nbformat": 4,
 "nbformat_minor": 5
}
